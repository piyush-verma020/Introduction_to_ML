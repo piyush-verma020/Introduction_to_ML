{
 "cells": [
  {
   "cell_type": "markdown",
   "id": "e5cb2e39-5b1a-4a6a-9a7f-561888057e0d",
   "metadata": {},
   "source": [
    "# OUTLIERS\n",
    "\n",
    "Outliers are extreme values that fall a long way outside of the other observations. \n",
    "\n",
    "The process of identifying outlierhas many names in data mining and machine learning `outlier mining`, \n",
    "`outlier modeling` and `novality detection` and `anomaly detection`.\n",
    "\n",
    "There are 3 different ways to detect outliers:-\n",
    "\n",
    "1. Using Box Plot\n",
    "2. Using IQR (Inter Quartile Range)\n",
    "3. Using Z score"
   ]
  },
  {
   "cell_type": "code",
   "execution_count": 1,
   "id": "5ce6e746-1fdf-4259-9341-4563571dc06b",
   "metadata": {},
   "outputs": [],
   "source": [
    "import numpy as np\n",
    "import pandas as pd\n",
    "import matplotlib.pyplot as plt\n",
    "import seaborn as sns\n",
    "import warnings\n",
    "import kagglehub\n",
    "from kagglehub import KaggleDatasetAdapter\n",
    "import urllib.request\n",
    "from PIL import Image\n",
    "%matplotlib inline\n",
    "\n",
    "# Setting the global font size for all plot elements (titles, labels, etc.)\n",
    "plt.rcParams['font.size']=13\n",
    "sns.set_style('darkgrid')\n",
    "\n",
    "\n",
    "warnings.filterwarnings('ignore')    # This can be used for removing any future warnings\n",
    "%matplotlib inline"
   ]
  },
  {
   "cell_type": "markdown",
   "id": "d18bf9f4-ac0b-43a4-a982-c5ccd1b90f83",
   "metadata": {},
   "source": [
    "The file`loan.csv` was taken from [here](https://www.kaggle.com/datasets/tanishaj225/loancsv)"
   ]
  },
  {
   "cell_type": "code",
   "execution_count": 2,
   "id": "e4004d68-b595-47b5-bf9a-f9183f4089e5",
   "metadata": {},
   "outputs": [
    {
     "data": {
      "image/png": "[encoded data removed]",
      "text/plain": [
       "<Figure size 640x480 with 1 Axes>"
      ]
     },
     "metadata": {},
     "output_type": "display_data"
    }
   ],
   "source": [
    "# Use direct image link\n",
    "url = 'https://miro.medium.com/max/9000/1*2c21SkzJMf3frPXPAR_gZA.png'\n",
    "headers = {'User-Agent': 'Mozilla/5.0'}\n",
    "req = urllib.request.Request(url, headers=headers)\n",
    "\n",
    "# Download image\n",
    "with urllib.request.urlopen(req) as response, open('boxplot.png', 'wb') as f1:\n",
    "    f1.write(response.read())\n",
    "\n",
    "# Open and display\n",
    "img = Image.open('boxplot.png')\n",
    "plt.imshow(img)\n",
    "plt.axis('off')\n",
    "plt.show()"
   ]
  },
  {
   "cell_type": "markdown",
   "id": "26f3803d-40f9-4fc0-8e6c-08b7c96c2bb6",
   "metadata": {},
   "source": [
    "As we can see in the boxplot above:\n",
    "\n",
    "* The green dots above the maximum and below the minimum represent outliers — values that lie far outside the normal range of the data.\n",
    "\n",
    "* The pink box represents the interquartile range (IQR), where most of the data lies.\n",
    "\n",
    "* The yellow line inside the box shows the median, which is the middle value of the dataset.\n",
    "\n",
    "Let's look at the data we have been working on i.e. `loan.csv`"
   ]
  },
  {
   "cell_type": "code",
   "execution_count": 3,
   "id": "75c13301-97fe-4727-8dcd-183088fe44df",
   "metadata": {},
   "outputs": [],
   "source": [
    "# Set the path to the file you'd like to load\n",
    "file_path = \"loan.csv\"  # file inside tanishaj225/loancsv dataset\n",
    "\n",
    "# Load dataset into pandas DataFrame\n",
    "loan_df = kagglehub.load_dataset(\n",
    "    KaggleDatasetAdapter.PANDAS,\n",
    "    \"tanishaj225/loancsv\",   # dataset slug\n",
    "    path=file_path           # specify file to load\n",
    ")"
   ]
  },
  {
   "cell_type": "code",
   "execution_count": 4,
   "id": "68ced665-bc7b-4755-b58c-609720b23c74",
   "metadata": {},
   "outputs": [
    {
     "data": {
      "text/html": [
       "<div>\n",
       "<style scoped>\n",
       "    .dataframe tbody tr th:only-of-type {\n",
       "        vertical-align: middle;\n",
       "    }\n",
       "\n",
       "    .dataframe tbody tr th {\n",
       "        vertical-align: top;\n",
       "    }\n",
       "\n",
       "    .dataframe thead th {\n",
       "        text-align: right;\n",
       "    }\n",
       "</style>\n",
       "<table border=\"1\" class=\"dataframe\">\n",
       "  <thead>\n",
       "    <tr style=\"text-align: right;\">\n",
       "      <th></th>\n",
       "      <th>Loan_ID</th>\n",
       "      <th>Gender</th>\n",
       "      <th>Married</th>\n",
       "      <th>Dependents</th>\n",
       "      <th>Education</th>\n",
       "      <th>Self_Employed</th>\n",
       "      <th>ApplicantIncome</th>\n",
       "      <th>CoapplicantIncome</th>\n",
       "      <th>LoanAmount</th>\n",
       "      <th>Loan_Amount_Term</th>\n",
       "      <th>Credit_History</th>\n",
       "      <th>Property_Area</th>\n",
       "      <th>Loan_Status</th>\n",
       "    </tr>\n",
       "  </thead>\n",
       "  <tbody>\n",
       "    <tr>\n",
       "      <th>0</th>\n",
       "      <td>LP001002</td>\n",
       "      <td>Male</td>\n",
       "      <td>No</td>\n",
       "      <td>0</td>\n",
       "      <td>Graduate</td>\n",
       "      <td>No</td>\n",
       "      <td>5849</td>\n",
       "      <td>0.0</td>\n",
       "      <td>NaN</td>\n",
       "      <td>360.0</td>\n",
       "      <td>1.0</td>\n",
       "      <td>Urban</td>\n",
       "      <td>Y</td>\n",
       "    </tr>\n",
       "    <tr>\n",
       "      <th>1</th>\n",
       "      <td>LP001003</td>\n",
       "      <td>Male</td>\n",
       "      <td>Yes</td>\n",
       "      <td>1</td>\n",
       "      <td>Graduate</td>\n",
       "      <td>No</td>\n",
       "      <td>4583</td>\n",
       "      <td>1508.0</td>\n",
       "      <td>128.0</td>\n",
       "      <td>360.0</td>\n",
       "      <td>1.0</td>\n",
       "      <td>Rural</td>\n",
       "      <td>N</td>\n",
       "    </tr>\n",
       "    <tr>\n",
       "      <th>2</th>\n",
       "      <td>LP001005</td>\n",
       "      <td>Male</td>\n",
       "      <td>Yes</td>\n",
       "      <td>0</td>\n",
       "      <td>Graduate</td>\n",
       "      <td>Yes</td>\n",
       "      <td>3000</td>\n",
       "      <td>0.0</td>\n",
       "      <td>66.0</td>\n",
       "      <td>360.0</td>\n",
       "      <td>1.0</td>\n",
       "      <td>Urban</td>\n",
       "      <td>Y</td>\n",
       "    </tr>\n",
       "    <tr>\n",
       "      <th>3</th>\n",
       "      <td>LP001006</td>\n",
       "      <td>Male</td>\n",
       "      <td>Yes</td>\n",
       "      <td>0</td>\n",
       "      <td>Not Graduate</td>\n",
       "      <td>No</td>\n",
       "      <td>2583</td>\n",
       "      <td>2358.0</td>\n",
       "      <td>120.0</td>\n",
       "      <td>360.0</td>\n",
       "      <td>1.0</td>\n",
       "      <td>Urban</td>\n",
       "      <td>Y</td>\n",
       "    </tr>\n",
       "    <tr>\n",
       "      <th>4</th>\n",
       "      <td>LP001008</td>\n",
       "      <td>Male</td>\n",
       "      <td>No</td>\n",
       "      <td>0</td>\n",
       "      <td>Graduate</td>\n",
       "      <td>No</td>\n",
       "      <td>6000</td>\n",
       "      <td>0.0</td>\n",
       "      <td>141.0</td>\n",
       "      <td>360.0</td>\n",
       "      <td>1.0</td>\n",
       "      <td>Urban</td>\n",
       "      <td>Y</td>\n",
       "    </tr>\n",
       "  </tbody>\n",
       "</table>\n",
       "</div>"
      ],
      "text/plain": [
       "    Loan_ID Gender Married Dependents     Education Self_Employed  \\\n",
       "0  LP001002   Male      No          0      Graduate            No   \n",
       "1  LP001003   Male     Yes          1      Graduate            No   \n",
       "2  LP001005   Male     Yes          0      Graduate           Yes   \n",
       "3  LP001006   Male     Yes          0  Not Graduate            No   \n",
       "4  LP001008   Male      No          0      Graduate            No   \n",
       "\n",
       "   ApplicantIncome  CoapplicantIncome  LoanAmount  Loan_Amount_Term  \\\n",
       "0             5849                0.0         NaN             360.0   \n",
       "1             4583             1508.0       128.0             360.0   \n",
       "2             3000                0.0        66.0             360.0   \n",
       "3             2583             2358.0       120.0             360.0   \n",
       "4             6000                0.0       141.0             360.0   \n",
       "\n",
       "   Credit_History Property_Area Loan_Status  \n",
       "0             1.0         Urban           Y  \n",
       "1             1.0         Rural           N  \n",
       "2             1.0         Urban           Y  \n",
       "3             1.0         Urban           Y  \n",
       "4             1.0         Urban           Y  "
      ]
     },
     "execution_count": 4,
     "metadata": {},
     "output_type": "execute_result"
    }
   ],
   "source": [
    "loan_df.head()"
   ]
  },
  {
   "cell_type": "markdown",
   "id": "02367ab0-4b18-4692-8450-a225d1cc8856",
   "metadata": {},
   "source": [
    "Let’s work with the `ApplicantIncome` and `CoapplicantIncome` columns.\n",
    "\n",
    "Before proceeding, we should first check for any **NaN** (missing) values.\n",
    "\n",
    "* If missing values are present, we can handle them by using\n",
    "\n",
    "  * `KNNImputer` (which predicts missing values based on nearest neighbors)\n",
    "\n",
    "  * `SimpleImputer` (which replaces them with a basic statistic like mean, median, or mode)."
   ]
  },
  {
   "cell_type": "code",
   "execution_count": 5,
   "id": "3bfb315d-dad9-47c5-83ff-387c626813a8",
   "metadata": {},
   "outputs": [
    {
     "data": {
      "text/plain": [
       "np.int64(0)"
      ]
     },
     "execution_count": 5,
     "metadata": {},
     "output_type": "execute_result"
    }
   ],
   "source": [
    "loan_df.ApplicantIncome.isna().sum()"
   ]
  },
  {
   "cell_type": "code",
   "execution_count": 6,
   "id": "33450d53-2827-4809-bc17-41b8d6b5b4f0",
   "metadata": {},
   "outputs": [
    {
     "data": {
      "text/plain": [
       "np.int64(0)"
      ]
     },
     "execution_count": 6,
     "metadata": {},
     "output_type": "execute_result"
    }
   ],
   "source": [
    "loan_df.CoapplicantIncome.isna().sum()"
   ]
  },
  {
   "cell_type": "markdown",
   "id": "c92c28f1-ef0d-4957-a066-6fe0fc7cac66",
   "metadata": {},
   "source": [
    "Well it looks like there are no missing values in those columns but there are multiple 0's present.\n",
    "\n",
    "### So should you replace 0 values?\n",
    "\n",
    "It depends on the context of the column:\n",
    "\n",
    "* `ApplicantIncome / CoapplicantIncome`\n",
    "\n",
    "    * Logically, income cannot be 0 (unless it’s a very rare case where the person has no income).\n",
    "\n",
    "    * In most datasets (like loan datasets), a `0` in income usually means missing or wrongly entered data → so yes, you should consider replacing it.\n",
    " \n",
    "### How to replace?\n",
    "\n",
    "You treat those 0s similar to missing values (`NaN`), because they don’t make sense in the context.\n",
    "\n",
    "Step 1: Remove all the 0's with the **NaN** value\n",
    "\n",
    "Step 2: Then apply SimpleImputer or KNNImputer to fill those **NaN** values with either their nearest neighbour or replace them with a basic statistic         like mean, median, or mode"
   ]
  },
  {
   "cell_type": "code",
   "execution_count": 7,
   "id": "e7b9c389-853b-4ff5-8b4d-3893fa6df234",
   "metadata": {},
   "outputs": [],
   "source": [
    "# Step 1: Replace unrealistic 0 values with NaN\n",
    "# (Alternatively, you could select all float64 columns using \n",
    "# .select_dtypes(include='float64').columns and handle them together)\n",
    "\n",
    "loan_df.ApplicantIncome.replace(0, np.nan, inplace=True)\n",
    "loan_df.CoapplicantIncome.replace(0, np.nan, inplace=True)"
   ]
  },
  {
   "cell_type": "code",
   "execution_count": 8,
   "id": "90321282-3e2e-43b3-902a-506c573d8fba",
   "metadata": {},
   "outputs": [
    {
     "data": {
      "text/plain": [
       "np.int64(0)"
      ]
     },
     "execution_count": 8,
     "metadata": {},
     "output_type": "execute_result"
    }
   ],
   "source": [
    "# Let's check\n",
    "loan_df.ApplicantIncome.isna().sum()"
   ]
  },
  {
   "cell_type": "code",
   "execution_count": 9,
   "id": "e60e6b4c-7529-4d7f-b299-18a3bb0bb533",
   "metadata": {},
   "outputs": [
    {
     "data": {
      "text/plain": [
       "np.int64(273)"
      ]
     },
     "execution_count": 9,
     "metadata": {},
     "output_type": "execute_result"
    }
   ],
   "source": [
    "loan_df.CoapplicantIncome.isna().sum()"
   ]
  },
  {
   "cell_type": "code",
   "execution_count": 10,
   "id": "9f503766-4d95-4436-8e26-e738c1882e1d",
   "metadata": {},
   "outputs": [],
   "source": [
    "from sklearn.impute import KNNImputer"
   ]
  },
  {
   "cell_type": "code",
   "execution_count": 11,
   "id": "385b63e4-67af-43da-ab52-defac33a298f",
   "metadata": {},
   "outputs": [],
   "source": [
    "imputer = KNNImputer(n_neighbors=5)\n",
    "loan_df[['ApplicantIncome', 'CoapplicantIncome']] = imputer.fit_transform(loan_df[['ApplicantIncome', 'CoapplicantIncome']])"
   ]
  },
  {
   "cell_type": "code",
   "execution_count": 12,
   "id": "fbad7411-d33a-4eff-b0ae-d25eaf7a62e8",
   "metadata": {},
   "outputs": [
    {
     "data": {
      "text/html": [
       "<div>\n",
       "<style scoped>\n",
       "    .dataframe tbody tr th:only-of-type {\n",
       "        vertical-align: middle;\n",
       "    }\n",
       "\n",
       "    .dataframe tbody tr th {\n",
       "        vertical-align: top;\n",
       "    }\n",
       "\n",
       "    .dataframe thead th {\n",
       "        text-align: right;\n",
       "    }\n",
       "</style>\n",
       "<table border=\"1\" class=\"dataframe\">\n",
       "  <thead>\n",
       "    <tr style=\"text-align: right;\">\n",
       "      <th></th>\n",
       "      <th>Loan_ID</th>\n",
       "      <th>Gender</th>\n",
       "      <th>Married</th>\n",
       "      <th>Dependents</th>\n",
       "      <th>Education</th>\n",
       "      <th>Self_Employed</th>\n",
       "      <th>ApplicantIncome</th>\n",
       "      <th>CoapplicantIncome</th>\n",
       "      <th>LoanAmount</th>\n",
       "      <th>Loan_Amount_Term</th>\n",
       "      <th>Credit_History</th>\n",
       "      <th>Property_Area</th>\n",
       "      <th>Loan_Status</th>\n",
       "    </tr>\n",
       "  </thead>\n",
       "  <tbody>\n",
       "    <tr>\n",
       "      <th>0</th>\n",
       "      <td>LP001002</td>\n",
       "      <td>Male</td>\n",
       "      <td>No</td>\n",
       "      <td>0</td>\n",
       "      <td>Graduate</td>\n",
       "      <td>No</td>\n",
       "      <td>5849.0</td>\n",
       "      <td>3422.4</td>\n",
       "      <td>NaN</td>\n",
       "      <td>360.0</td>\n",
       "      <td>1.0</td>\n",
       "      <td>Urban</td>\n",
       "      <td>Y</td>\n",
       "    </tr>\n",
       "    <tr>\n",
       "      <th>1</th>\n",
       "      <td>LP001003</td>\n",
       "      <td>Male</td>\n",
       "      <td>Yes</td>\n",
       "      <td>1</td>\n",
       "      <td>Graduate</td>\n",
       "      <td>No</td>\n",
       "      <td>4583.0</td>\n",
       "      <td>1508.0</td>\n",
       "      <td>128.0</td>\n",
       "      <td>360.0</td>\n",
       "      <td>1.0</td>\n",
       "      <td>Rural</td>\n",
       "      <td>N</td>\n",
       "    </tr>\n",
       "    <tr>\n",
       "      <th>2</th>\n",
       "      <td>LP001005</td>\n",
       "      <td>Male</td>\n",
       "      <td>Yes</td>\n",
       "      <td>0</td>\n",
       "      <td>Graduate</td>\n",
       "      <td>Yes</td>\n",
       "      <td>3000.0</td>\n",
       "      <td>2687.8</td>\n",
       "      <td>66.0</td>\n",
       "      <td>360.0</td>\n",
       "      <td>1.0</td>\n",
       "      <td>Urban</td>\n",
       "      <td>Y</td>\n",
       "    </tr>\n",
       "    <tr>\n",
       "      <th>3</th>\n",
       "      <td>LP001006</td>\n",
       "      <td>Male</td>\n",
       "      <td>Yes</td>\n",
       "      <td>0</td>\n",
       "      <td>Not Graduate</td>\n",
       "      <td>No</td>\n",
       "      <td>2583.0</td>\n",
       "      <td>2358.0</td>\n",
       "      <td>120.0</td>\n",
       "      <td>360.0</td>\n",
       "      <td>1.0</td>\n",
       "      <td>Urban</td>\n",
       "      <td>Y</td>\n",
       "    </tr>\n",
       "    <tr>\n",
       "      <th>4</th>\n",
       "      <td>LP001008</td>\n",
       "      <td>Male</td>\n",
       "      <td>No</td>\n",
       "      <td>0</td>\n",
       "      <td>Graduate</td>\n",
       "      <td>No</td>\n",
       "      <td>6000.0</td>\n",
       "      <td>3688.8</td>\n",
       "      <td>141.0</td>\n",
       "      <td>360.0</td>\n",
       "      <td>1.0</td>\n",
       "      <td>Urban</td>\n",
       "      <td>Y</td>\n",
       "    </tr>\n",
       "    <tr>\n",
       "      <th>5</th>\n",
       "      <td>LP001011</td>\n",
       "      <td>Male</td>\n",
       "      <td>Yes</td>\n",
       "      <td>2</td>\n",
       "      <td>Graduate</td>\n",
       "      <td>Yes</td>\n",
       "      <td>5417.0</td>\n",
       "      <td>4196.0</td>\n",
       "      <td>267.0</td>\n",
       "      <td>360.0</td>\n",
       "      <td>1.0</td>\n",
       "      <td>Urban</td>\n",
       "      <td>Y</td>\n",
       "    </tr>\n",
       "    <tr>\n",
       "      <th>6</th>\n",
       "      <td>LP001013</td>\n",
       "      <td>Male</td>\n",
       "      <td>Yes</td>\n",
       "      <td>0</td>\n",
       "      <td>Not Graduate</td>\n",
       "      <td>No</td>\n",
       "      <td>2333.0</td>\n",
       "      <td>1516.0</td>\n",
       "      <td>95.0</td>\n",
       "      <td>360.0</td>\n",
       "      <td>1.0</td>\n",
       "      <td>Urban</td>\n",
       "      <td>Y</td>\n",
       "    </tr>\n",
       "    <tr>\n",
       "      <th>7</th>\n",
       "      <td>LP001014</td>\n",
       "      <td>Male</td>\n",
       "      <td>Yes</td>\n",
       "      <td>3+</td>\n",
       "      <td>Graduate</td>\n",
       "      <td>No</td>\n",
       "      <td>3036.0</td>\n",
       "      <td>2504.0</td>\n",
       "      <td>158.0</td>\n",
       "      <td>360.0</td>\n",
       "      <td>0.0</td>\n",
       "      <td>Semiurban</td>\n",
       "      <td>N</td>\n",
       "    </tr>\n",
       "    <tr>\n",
       "      <th>8</th>\n",
       "      <td>LP001018</td>\n",
       "      <td>Male</td>\n",
       "      <td>Yes</td>\n",
       "      <td>2</td>\n",
       "      <td>Graduate</td>\n",
       "      <td>No</td>\n",
       "      <td>4006.0</td>\n",
       "      <td>1526.0</td>\n",
       "      <td>168.0</td>\n",
       "      <td>360.0</td>\n",
       "      <td>1.0</td>\n",
       "      <td>Urban</td>\n",
       "      <td>Y</td>\n",
       "    </tr>\n",
       "    <tr>\n",
       "      <th>9</th>\n",
       "      <td>LP001020</td>\n",
       "      <td>Male</td>\n",
       "      <td>Yes</td>\n",
       "      <td>1</td>\n",
       "      <td>Graduate</td>\n",
       "      <td>No</td>\n",
       "      <td>12841.0</td>\n",
       "      <td>10968.0</td>\n",
       "      <td>349.0</td>\n",
       "      <td>360.0</td>\n",
       "      <td>1.0</td>\n",
       "      <td>Semiurban</td>\n",
       "      <td>N</td>\n",
       "    </tr>\n",
       "  </tbody>\n",
       "</table>\n",
       "</div>"
      ],
      "text/plain": [
       "    Loan_ID Gender Married Dependents     Education Self_Employed  \\\n",
       "0  LP001002   Male      No          0      Graduate            No   \n",
       "1  LP001003   Male     Yes          1      Graduate            No   \n",
       "2  LP001005   Male     Yes          0      Graduate           Yes   \n",
       "3  LP001006   Male     Yes          0  Not Graduate            No   \n",
       "4  LP001008   Male      No          0      Graduate            No   \n",
       "5  LP001011   Male     Yes          2      Graduate           Yes   \n",
       "6  LP001013   Male     Yes          0  Not Graduate            No   \n",
       "7  LP001014   Male     Yes         3+      Graduate            No   \n",
       "8  LP001018   Male     Yes          2      Graduate            No   \n",
       "9  LP001020   Male     Yes          1      Graduate            No   \n",
       "\n",
       "   ApplicantIncome  CoapplicantIncome  LoanAmount  Loan_Amount_Term  \\\n",
       "0           5849.0             3422.4         NaN             360.0   \n",
       "1           4583.0             1508.0       128.0             360.0   \n",
       "2           3000.0             2687.8        66.0             360.0   \n",
       "3           2583.0             2358.0       120.0             360.0   \n",
       "4           6000.0             3688.8       141.0             360.0   \n",
       "5           5417.0             4196.0       267.0             360.0   \n",
       "6           2333.0             1516.0        95.0             360.0   \n",
       "7           3036.0             2504.0       158.0             360.0   \n",
       "8           4006.0             1526.0       168.0             360.0   \n",
       "9          12841.0            10968.0       349.0             360.0   \n",
       "\n",
       "   Credit_History Property_Area Loan_Status  \n",
       "0             1.0         Urban           Y  \n",
       "1             1.0         Rural           N  \n",
       "2             1.0         Urban           Y  \n",
       "3             1.0         Urban           Y  \n",
       "4             1.0         Urban           Y  \n",
       "5             1.0         Urban           Y  \n",
       "6             1.0         Urban           Y  \n",
       "7             0.0     Semiurban           N  \n",
       "8             1.0         Urban           Y  \n",
       "9             1.0     Semiurban           N  "
      ]
     },
     "execution_count": 12,
     "metadata": {},
     "output_type": "execute_result"
    }
   ],
   "source": [
    "loan_df.head(10)"
   ]
  },
  {
   "cell_type": "markdown",
   "id": "a7d6272a-d254-43ea-bdf7-d04b4dcb2473",
   "metadata": {},
   "source": [
    "As you can see, the values that were previously 0 were first converted to NaN, and then replaced with values based on their nearest neighbours.\n",
    "\n",
    "Before moving on to the next topic let's just fill up the remaining NaN values in the data set"
   ]
  },
  {
   "cell_type": "code",
   "execution_count": 13,
   "id": "0a2fa85e-d43d-4f4e-a10d-f9dcc088c5d6",
   "metadata": {},
   "outputs": [
    {
     "data": {
      "text/plain": [
       "Loan_ID               0\n",
       "Gender               13\n",
       "Married               3\n",
       "Dependents           15\n",
       "Education             0\n",
       "Self_Employed        32\n",
       "ApplicantIncome       0\n",
       "CoapplicantIncome     0\n",
       "LoanAmount           22\n",
       "Loan_Amount_Term     14\n",
       "Credit_History       50\n",
       "Property_Area         0\n",
       "Loan_Status           0\n",
       "dtype: int64"
      ]
     },
     "execution_count": 13,
     "metadata": {},
     "output_type": "execute_result"
    }
   ],
   "source": [
    "loan_df.isna().sum()"
   ]
  },
  {
   "cell_type": "code",
   "execution_count": 14,
   "id": "4844ea44-f8ed-47f4-8454-0d4d84f109f5",
   "metadata": {},
   "outputs": [],
   "source": [
    "for i in loan_df.select_dtypes(include='object').columns:\n",
    "    loan_df[i].fillna(loan_df[i].mode()[0], inplace=True)"
   ]
  },
  {
   "cell_type": "code",
   "execution_count": 15,
   "id": "cbfd4cb0-1e88-4c05-97f6-18d5a6b23779",
   "metadata": {},
   "outputs": [
    {
     "data": {
      "text/plain": [
       "Loan_ID               0\n",
       "Gender                0\n",
       "Married               0\n",
       "Dependents            0\n",
       "Education             0\n",
       "Self_Employed         0\n",
       "ApplicantIncome       0\n",
       "CoapplicantIncome     0\n",
       "LoanAmount           22\n",
       "Loan_Amount_Term     14\n",
       "Credit_History       50\n",
       "Property_Area         0\n",
       "Loan_Status           0\n",
       "dtype: int64"
      ]
     },
     "execution_count": 15,
     "metadata": {},
     "output_type": "execute_result"
    }
   ],
   "source": [
    "loan_df.isna().sum()"
   ]
  },
  {
   "cell_type": "code",
   "execution_count": 16,
   "id": "6109f33d-e5a4-4dcb-bb8c-5553b913049c",
   "metadata": {},
   "outputs": [],
   "source": [
    "fl = loan_df[loan_df.select_dtypes(include='float64').columns]"
   ]
  },
  {
   "cell_type": "code",
   "execution_count": 17,
   "id": "3a862faa-bbae-40b0-ad68-1549a2e43512",
   "metadata": {},
   "outputs": [],
   "source": [
    "# Just Replacing any 0 values with NaN\n",
    "fl.replace(0, np.nan, inplace=True)"
   ]
  },
  {
   "cell_type": "code",
   "execution_count": 18,
   "id": "bf050810-2262-4a09-addf-c8bf5a815355",
   "metadata": {},
   "outputs": [
    {
     "data": {
      "text/plain": [
       "Index(['ApplicantIncome', 'CoapplicantIncome', 'LoanAmount',\n",
       "       'Loan_Amount_Term', 'Credit_History'],\n",
       "      dtype='object')"
      ]
     },
     "execution_count": 18,
     "metadata": {},
     "output_type": "execute_result"
    }
   ],
   "source": [
    "fl.columns"
   ]
  },
  {
   "cell_type": "code",
   "execution_count": 19,
   "id": "3abf1907-6c55-4856-b97c-6168ed8afc5d",
   "metadata": {},
   "outputs": [
    {
     "data": {
      "text/plain": [
       "ApplicantIncome        0\n",
       "CoapplicantIncome      0\n",
       "LoanAmount            22\n",
       "Loan_Amount_Term      14\n",
       "Credit_History       139\n",
       "dtype: int64"
      ]
     },
     "execution_count": 19,
     "metadata": {},
     "output_type": "execute_result"
    }
   ],
   "source": [
    "fl.isna().sum()"
   ]
  },
  {
   "cell_type": "code",
   "execution_count": 20,
   "id": "df220cde-5a24-478b-9cb6-00da403f9416",
   "metadata": {},
   "outputs": [],
   "source": [
    "imputer = KNNImputer(n_neighbors=5)\n",
    "loan_df[fl.columns] = imputer.fit_transform(fl)"
   ]
  },
  {
   "cell_type": "code",
   "execution_count": 21,
   "id": "8980e37e-3cc3-4ab1-bd27-fafb5d964eb4",
   "metadata": {},
   "outputs": [
    {
     "data": {
      "text/plain": [
       "Loan_ID              0\n",
       "Gender               0\n",
       "Married              0\n",
       "Dependents           0\n",
       "Education            0\n",
       "Self_Employed        0\n",
       "ApplicantIncome      0\n",
       "CoapplicantIncome    0\n",
       "LoanAmount           0\n",
       "Loan_Amount_Term     0\n",
       "Credit_History       0\n",
       "Property_Area        0\n",
       "Loan_Status          0\n",
       "dtype: int64"
      ]
     },
     "execution_count": 21,
     "metadata": {},
     "output_type": "execute_result"
    }
   ],
   "source": [
    "loan_df.isna().sum()"
   ]
  },
  {
   "cell_type": "code",
   "execution_count": 22,
   "id": "c44ac43a-3afd-4aa1-85ea-a005844cd9da",
   "metadata": {},
   "outputs": [
    {
     "data": {
      "text/html": [
       "<div>\n",
       "<style scoped>\n",
       "    .dataframe tbody tr th:only-of-type {\n",
       "        vertical-align: middle;\n",
       "    }\n",
       "\n",
       "    .dataframe tbody tr th {\n",
       "        vertical-align: top;\n",
       "    }\n",
       "\n",
       "    .dataframe thead th {\n",
       "        text-align: right;\n",
       "    }\n",
       "</style>\n",
       "<table border=\"1\" class=\"dataframe\">\n",
       "  <thead>\n",
       "    <tr style=\"text-align: right;\">\n",
       "      <th></th>\n",
       "      <th>ApplicantIncome</th>\n",
       "      <th>CoapplicantIncome</th>\n",
       "      <th>LoanAmount</th>\n",
       "      <th>Loan_Amount_Term</th>\n",
       "      <th>Credit_History</th>\n",
       "    </tr>\n",
       "  </thead>\n",
       "  <tbody>\n",
       "    <tr>\n",
       "      <th>count</th>\n",
       "      <td>614.000000</td>\n",
       "      <td>614.000000</td>\n",
       "      <td>614.000000</td>\n",
       "      <td>614.000000</td>\n",
       "      <td>614.0</td>\n",
       "    </tr>\n",
       "    <tr>\n",
       "      <th>mean</th>\n",
       "      <td>5403.459283</td>\n",
       "      <td>2990.309694</td>\n",
       "      <td>146.473290</td>\n",
       "      <td>342.136808</td>\n",
       "      <td>1.0</td>\n",
       "    </tr>\n",
       "    <tr>\n",
       "      <th>std</th>\n",
       "      <td>6109.041673</td>\n",
       "      <td>2632.292880</td>\n",
       "      <td>86.015804</td>\n",
       "      <td>64.513596</td>\n",
       "      <td>0.0</td>\n",
       "    </tr>\n",
       "    <tr>\n",
       "      <th>min</th>\n",
       "      <td>150.000000</td>\n",
       "      <td>16.120001</td>\n",
       "      <td>9.000000</td>\n",
       "      <td>12.000000</td>\n",
       "      <td>1.0</td>\n",
       "    </tr>\n",
       "    <tr>\n",
       "      <th>25%</th>\n",
       "      <td>2877.500000</td>\n",
       "      <td>1834.750000</td>\n",
       "      <td>100.000000</td>\n",
       "      <td>360.000000</td>\n",
       "      <td>1.0</td>\n",
       "    </tr>\n",
       "    <tr>\n",
       "      <th>50%</th>\n",
       "      <td>3812.500000</td>\n",
       "      <td>2543.800000</td>\n",
       "      <td>128.000000</td>\n",
       "      <td>360.000000</td>\n",
       "      <td>1.0</td>\n",
       "    </tr>\n",
       "    <tr>\n",
       "      <th>75%</th>\n",
       "      <td>5795.000000</td>\n",
       "      <td>3588.250000</td>\n",
       "      <td>165.750000</td>\n",
       "      <td>360.000000</td>\n",
       "      <td>1.0</td>\n",
       "    </tr>\n",
       "    <tr>\n",
       "      <th>max</th>\n",
       "      <td>81000.000000</td>\n",
       "      <td>41667.000000</td>\n",
       "      <td>700.000000</td>\n",
       "      <td>480.000000</td>\n",
       "      <td>1.0</td>\n",
       "    </tr>\n",
       "  </tbody>\n",
       "</table>\n",
       "</div>"
      ],
      "text/plain": [
       "       ApplicantIncome  CoapplicantIncome  LoanAmount  Loan_Amount_Term  \\\n",
       "count       614.000000         614.000000  614.000000        614.000000   \n",
       "mean       5403.459283        2990.309694  146.473290        342.136808   \n",
       "std        6109.041673        2632.292880   86.015804         64.513596   \n",
       "min         150.000000          16.120001    9.000000         12.000000   \n",
       "25%        2877.500000        1834.750000  100.000000        360.000000   \n",
       "50%        3812.500000        2543.800000  128.000000        360.000000   \n",
       "75%        5795.000000        3588.250000  165.750000        360.000000   \n",
       "max       81000.000000       41667.000000  700.000000        480.000000   \n",
       "\n",
       "       Credit_History  \n",
       "count           614.0  \n",
       "mean              1.0  \n",
       "std               0.0  \n",
       "min               1.0  \n",
       "25%               1.0  \n",
       "50%               1.0  \n",
       "75%               1.0  \n",
       "max               1.0  "
      ]
     },
     "execution_count": 22,
     "metadata": {},
     "output_type": "execute_result"
    }
   ],
   "source": [
    "loan_df.describe()"
   ]
  },
  {
   "cell_type": "markdown",
   "id": "5f441e1a-fca5-4161-aa9a-ef6e6167a992",
   "metadata": {},
   "source": [
    "Using `.describe()`, we can quickly summarize each column and spot unusual or unrealistic values.\n",
    "For example, in our dataset, the summary revealed `0s` in `ApplicantIncome` and `CoapplicantIncome`, \n",
    "which don’t make sense in this context.\n",
    "\n",
    "#### Conclusion:\n",
    "\n",
    "`.describe()` helps us quickly spot:\n",
    "\n",
    "* Unrealistic values (e.g., incomes with 0 or very small amounts).\n",
    "\n",
    "* Outliers (extremely high values compared to typical ranges).\n",
    "\n",
    "* Columns with little to no variation (like Credit_History).\n",
    "\n",
    "---\n",
    "\n",
    "### And if you are thinking why the minimum value of ApplicantIncome is so low then:\n",
    "\n",
    "You’re in absolutely right state of mind — now *150* as `ApplicantIncome` minimum feels off. \n",
    "\n",
    "Imagine someone applying for a loan with only ₹150 income — that’s not realistic at all.\n",
    "\n",
    "Here’s how you can think about it:\n",
    "\n",
    "1. Check the context first\n",
    "\n",
    "* Sometimes these are **data-entry mistakes** (like missing a “0” → 1500 instead of 150).\n",
    "\n",
    "* Or they could be **genuine but rare cases** (like students or part-time workers applying jointly with a high-income coapplicant).\n",
    "\n",
    "2. Decide based on analysis goal\n",
    "\n",
    "* **If you’re just exploring**: Keep it, but mark it as a possible outlier.\n",
    "\n",
    "* **If building a model**:\n",
    "\n",
    "    * You could replace it with a more reasonable value (e.g., median income).\n",
    "\n",
    "    * Or treat it as an outlier and remove it (if very few such records exist).\n",
    "\n",
    "3. Best practice\n",
    "\n",
    "* Don’t delete immediately. First, **visualize ApplicantIncome** with a boxplot or histogram.\n",
    "\n",
    "* If 150 is a rare case (like <1% of data), it’s safe to drop or impute.\n",
    "\n",
    "* If many such small values exist, maybe they represent a valid group and should be kept.\n",
    "\n",
    "Well I would suggest you to **keep working on it** but flag it.\n",
    "\n",
    "Later when you will be cleaning data for medelling, you can decidewhether you should drop it, impute, or scale it depending on how much it affects the distribution.\n",
    "\n",
    "---\n",
    "\n",
    "**Next Step: Visualizing Outliers**\n",
    "\n",
    "Now that `.describe()` highlighted potential issues, we’ll confirm them visually using a boxplot (and optionally a distribution plot).\n",
    "Boxplots are particularly effective for quickly spotting outliers."
   ]
  },
  {
   "cell_type": "code",
   "execution_count": 23,
   "id": "0549abf1-d035-4856-beda-d93f6df4e3a3",
   "metadata": {},
   "outputs": [
    {
     "data": {
      "image/png": "[encoded data removed]",
      "text/plain": [
       "<Figure size 640x480 with 1 Axes>"
      ]
     },
     "metadata": {},
     "output_type": "display_data"
    }
   ],
   "source": [
    "sns.boxplot(data = loan_df, x = 'CoapplicantIncome')\n",
    "plt.show()"
   ]
  },
  {
   "cell_type": "code",
   "execution_count": 24,
   "id": "f90102a3-c276-4c9a-84be-7b58189787cf",
   "metadata": {},
   "outputs": [
    {
     "data": {
      "image/png": "[encoded data removed]",
      "text/plain": [
       "<Figure size 640x480 with 1 Axes>"
      ]
     },
     "metadata": {},
     "output_type": "display_data"
    }
   ],
   "source": [
    "sns.boxplot(data = loan_df, x = 'ApplicantIncome')\n",
    "plt.show()"
   ]
  },
  {
   "cell_type": "code",
   "execution_count": 25,
   "id": "63693583-dd93-4717-9ae8-aca483929aa6",
   "metadata": {},
   "outputs": [
    {
     "data": {
      "image/png": "[encoded data removed]",
      "text/plain": [
       "<Figure size 500x500 with 1 Axes>"
      ]
     },
     "metadata": {},
     "output_type": "display_data"
    }
   ],
   "source": [
    "sns.displot(data=loan_df,x = 'ApplicantIncome',kde=True)\n",
    "plt.show()"
   ]
  },
  {
   "cell_type": "markdown",
   "id": "8de69e61-712b-4a99-95f8-bc4442eea606",
   "metadata": {},
   "source": [
    "**Boxplot**:\n",
    "\n",
    "* *The most noticeable point is the **large number of outliers above the upper whisker** (maximum range)*.\n",
    "\n",
    "* *On the other hand, **no clear outliers are visible below the minimum whisker**. We’ll confirm this later using the **IQR (Interquartile Range) method** to be sure*.\n",
    "\n",
    "**Distribution Plot**:\n",
    "\n",
    "* *The distribution shows a **positive skewness** (tail leaning towards the right)*.\n",
    "\n",
    "* *The **long right tail** indicates the presence of an **excessive number of higher-value outliers** in the dataset*."
   ]
  },
  {
   "cell_type": "markdown",
   "id": "f0b2c8f6-33da-40e9-ba3c-6e9d7864ef5b",
   "metadata": {},
   "source": [
    "---\n",
    "\n",
    "## Outlier Removal via IQR (Inter Quatile Range)\n",
    "\n",
    "### First of what is IQR:\n",
    "\n",
    "* IQR (Interquartile Range) measures the spread of the middle 50% of data.\n",
    "\n",
    "* Formula:\n",
    "\n",
    "        IQR = Q3 - Q1\n",
    "\n",
    "Where:\n",
    "\n",
    "* Q3 represents 25th percentile (the lower quartile)\n",
    "* Q1 represents the 75th percentile (the upper quartile)\n",
    "\n",
    "### Defining the Outliers Boundaries\n",
    "\n",
    "Outliers are values lying far above Q3 or far below Q1.\n",
    "\n",
    "We calculate boundaries using:\n",
    "    \n",
    "* Lower Boundaries = Q1 - 1.5 * IQR\n",
    "\n",
    "* Upper bound = Q3 + 1.5 * IQR\n",
    "\n",
    "Any value \\< Lower Bound or \\> Upper Bound is an `Outlier`\n",
    "\n",
    "### Example\n",
    "\n",
    "Let’s say we have incomes (in ₹):\n",
    "\n",
    "    [150, 2000, 2500, 3000, 3200, 4000, 4500, 6000, 100000]\n",
    "\n",
    "1. Find Q1 and Q3\n",
    "\n",
    "* Q1 (25th percentile) = 2500\n",
    "\n",
    "* Q3 (75th percentile) = 4500\n",
    "\n",
    "2. Compute IQR\n",
    "\n",
    "    IQR = 4500 - 2500 = 2000\n",
    "\n",
    "3. Calculate Bounds\n",
    "\n",
    "* Lower Bound = 2500 - (1.5 × 2000) = -500\n",
    "\n",
    "* Upper Bound = 4500 + (1.5 × 2000) = 9500\n",
    "\n",
    "4. Identify Outliers\n",
    "\n",
    "* Any value < -500 → none\n",
    "\n",
    "* Any value > 9500 → 100000 is an outlier\n",
    "\n",
    "### Why it Works\n",
    "\n",
    "* The IQR focuses on the middle 50% of data, so it is not affected by extreme values.\n",
    "\n",
    "* This makes it more robust compared to methods using mean and standard deviation.\n",
    "\n",
    "### Summary in one line:\n",
    "\n",
    "The IQR method flags values `below Q1 - 1.5×IQR` or `above Q3 + 1.5×IQR as outliers`."
   ]
  },
  {
   "cell_type": "code",
   "execution_count": null,
   "id": "55e80794-fe74-470b-b9c8-d0d9ebf996fc",
   "metadata": {},
   "outputs": [],
   "source": []
  }
 ],
 "metadata": {
  "kernelspec": {
   "display_name": "Python 3 (ipykernel)",
   "language": "python",
   "name": "python3"
  },
  "language_info": {
   "codemirror_mode": {
    "name": "ipython",
    "version": 3
   },
   "file_extension": ".py",
   "mimetype": "text/x-python",
   "name": "python",
   "nbconvert_exporter": "python",
   "pygments_lexer": "ipython3",
   "version": "3.13.2"
  }
 },
 "nbformat": 4,
 "nbformat_minor": 5
}
