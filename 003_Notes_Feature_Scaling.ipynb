{
 "cells": [
  {
   "cell_type": "markdown",
   "id": "8e4eb2cb-d19c-4707-8eb3-8b9a3d67d362",
   "metadata": {},
   "source": [
    "# Feature Scaling\n",
    "\n",
    "Feature scaling is a **data preprocessing technique** used to bring all numerical features (variables) into the same range or scale without distorting differences in the values.\n",
    "\n",
    "Or you can simply say scaling adjusts the **values of features** so that they **have a comparable range or distribution**, especially when features are on **very different scales**. This helps machine learning models treat each feature more fairly during training.\n",
    "\n",
    "Example:\n",
    "\n",
    "`Age` ranges from 20–70\n",
    "\n",
    "`Income` ranges from 20,000–100,000\n",
    "\n",
    "If we feed them directly into some models, the larger-scale feature (`Income`) will dominate over the smaller-scale one (`Age`).\n",
    "\n",
    "\n",
    "### Why Do We Use It?\n",
    "\n",
    "1. Prevents domination of large-scale features\n",
    "\n",
    "    * Models that rely on **distance** (KNN, K-means, PCA) or **gradient-based optimization** (Logistic/Linear Regression, Neural Networks) are heavily affected by the scale of features.\n",
    "\n",
    "    * Scaling ensures all features contribute **fairly**.\n",
    "\n",
    "2. Speeds up convergence\n",
    "\n",
    "    * For gradient descent–based models, scaled data helps the algorithm converge faster (because the cost function doesn’t zigzag).\n",
    "\n",
    "3. Improves interpretability\n",
    "\n",
    "    * In models like regression, the coefficients become easier to compare when features are on the same scale.\n",
    "\n",
    "\n",
    "### What If We Don’t Use It?\n",
    "\n",
    "* **KNN / K-means / PCA** → Distances get biased toward large-scale features.\n",
    "\n",
    "  Example: `Income` could dominate `Age`, even if `Age` is equally important.\n",
    "\n",
    "* **Gradient Descent–based models** → Training becomes slower, sometimes failing to converge properly.\n",
    "\n",
    "* **Regression models** → Coefficients become misleading, as features on larger scales appear artificially more important.\n",
    "\n",
    "* **Tree-based models (Decision Trees, Random Forest, XGBoost)** → They don’t need scaling because they split based on thresholds, not distances.\n",
    "\n",
    "\n",
    "### Types of Feature Scaling\n",
    "\n",
    "* **Min-Max Scaling (Normalization)** → Scales values to `[0,1]`\n",
    "$$x' = \\frac{x - x_{min}}{x_{max} - x_{min}}$$\n",
    "\n",
    "* **Standardization (Z-score Scaling)** → Scales values to mean = 0, std = 1\n",
    "$$x' = \\frac{x - \\mu}{\\sigma}$$\n",
    "\n",
    "* **Robust Scaler (IQR Scaling)** I → Uses median and IQR (good for outliers).\n",
    "\n",
    "    * Uses median and interquartile range, which makes it robust to outliers\n",
    "\n",
    "    * Formula:\n",
    "        $$x_{scaled} = \\frac{x - median}{IQR}$$ \n",
    "\n",
    "    * Use when: Your data has outliers.\n",
    "\n",
    "| Method          | Formula                                      | Use Case                                                     |\n",
    "| --------------- | -------------------------------------------- | ------------------------------------------------------------ |\n",
    "| Min-Max Scaling | $x' = \\frac{x - x_{min}}{x_{max} - x_{min}}$ | When you need data in a fixed \\[0,1] range                   |\n",
    "| Standardization | $x' = \\frac{x - \\mu}{\\sigma}$                | When you need mean=0, std=1 (works well with most ML models) |\n",
    "| Robust Scaler   | $x' = \\frac{x - median}{IQR}$                | When you have outliers                                       |\n",
    "\n",
    "**Min-Max scaling can be sensitive to outliers** — so *Standardization or Robust Scaler is preferred when extreme values exist*.\n",
    "\n",
    "And if in case you are wondering, if feature scaling makes you loose your data or it changes any pattern of your data then-NO, Feature scaling does NOT make you lose data, nor does it change the underlying pattern. \n",
    "\n",
    "### Feature Scaling Actually Does Not:\n",
    "\n",
    "* Drop any rows or columns\n",
    "\n",
    "* Remove information\n",
    "\n",
    "* Change relationships between points\n",
    "\n",
    "It’s like converting all distances from meters to kilometers — the numbers change, but the relative distances stay exactly the same."
   ]
  },
  {
   "cell_type": "markdown",
   "id": "02b63c9e-2843-4620-9a1f-ce3057499414",
   "metadata": {},
   "source": [
    "---\n",
    "\n",
    "### Effects on Outliers while using Different Scaling Technique\n",
    "\n",
    "1. Standardization (Z-score Scaling)\n",
    "\n",
    "    * Effect of Outliers:\n",
    "        * Outliers do affect the mean (μ) and standard deviation (σ), so the entire distribution shifts and stretches.\n",
    "\n",
    "    * What to Do:\n",
    "\n",
    "        * If outliers are legitimate data points (e.g., very high but real house prices), you usually keep them — you just need to be aware that scaling will reduce how far they look from the mean.\n",
    "\n",
    "        * If outliers are errors or noise, remove or cap them (e.g., using winsorization or z-score threshold filtering) before standardization.\n",
    "\n",
    "2. Robust Scaling\n",
    "\n",
    "    * Effect of Outliers:\n",
    "        * Almost no effect — because median and IQR are not influenced by extreme values.\n",
    "\n",
    "    * What to Do:\n",
    "\n",
    "        * You don’t need to remove outliers just to make robust scaling work — that’s exactly what robust scaling is designed for.\n",
    "\n",
    "        * You might still remove outliers if they are true anomalies that would distort your model, but not because of the scaling step.\n",
    "     \n",
    "---\n",
    "     \n",
    "#### Just to ignore all the effects you can just use a proper ML preprocessing pipeline.\n",
    "\n",
    "* Removing outliers first makes your scaling more meaningful, because mean/median/min/max are no longer distorted.\n",
    "\n",
    "* Scaling after outlier removal ensures all features are on a comparable scale, which helps most ML models train faster and perform better.\n",
    "\n",
    "* Training on the scaled data is completely valid and usually improves convergence (especially for models using gradient descent).\n",
    "\n",
    "\n",
    "### Why This Works So Well\n",
    "\n",
    "* **Statistical estimates become stable** → mean, std, min, max, IQR are all representative of your data.\n",
    "\n",
    "* **Scaling transforms are accurate** → no single extreme value dominates the transformation.\n",
    "\n",
    "* **Model learns faster** → weights update more evenly across features.\n",
    "\n",
    "* **No information loss (except bad outliers)** → your model still sees all relevant, legitimate data points.\n",
    "\n",
    "\n",
    "##### So Your Final Pipeline Looks Like:\n",
    "\n",
    "1. `Outlier Handling`\n",
    "\n",
    "    * Detect and remove extreme/unwanted outliers (or cap them if necessary).\n",
    "\n",
    "2. `Feature Scaling`\n",
    "\n",
    "    * Apply Min-Max / Standardization / Robust depending on your model and data distribution.\n",
    "\n",
    "3. `Model Training`\n",
    "\n",
    "    * Train your algorithm on the cleaned & scaled dataset.\n",
    "  \n",
    "---\n",
    "\n",
    "### When should you use IQR method or Z-Score to remove Outliers from you data:\n",
    "\n",
    "1. **IQR Method (Interquartile Range)**\n",
    "\n",
    "* How it works:\n",
    "\n",
    "    * Finds the 25th percentile (Q1) and 75th percentile (Q3).\n",
    "\n",
    "    * Computes IQR = Q3 - Q1.\n",
    "\n",
    "    * Anything below **Q1 - 1.5×IQR** or above **Q3 + 1.5×IQR** is considered an outlier.\n",
    "\n",
    "* Key Feature: Based on **median & percentiles** → very robust to extreme values.\n",
    "\n",
    "* When to Use:\n",
    "    * When your data is **not normally distributed** (skewed, long-tailed, etc.)\n",
    "    * When you want a **non-parametric** method (no assumption about data distribution)\n",
    "    * When you care about being robust to outliers themselves\n",
    "\n",
    "2. Z-Score Method\n",
    "\n",
    "* How it works:\n",
    "\n",
    "    * Calculates mean (μ) and standard deviation (σ).\n",
    "\n",
    "    * Computes Z = (X - μ) / σ.\n",
    "\n",
    "    * Anything with |Z| > 3 (commonly) is considered an outlier.\n",
    "\n",
    "* Key Feature: Based on **mean & standard deviation** → sensitive to extreme values.\n",
    "\n",
    "* When to Use:\n",
    "    * When your data is **approximately normal** (bell-shaped distribution)\n",
    "    * When you want to measure **how many standard deviations away** a point is\n",
    "    * When you prefer a probabilistic interpretation (Z > 3 ≈ rare event in normal distribution)\n",
    "\n",
    "### Big Difference\n",
    "\n",
    "* IQR works on ranks (position in sorted data) → robust, no assumption about shape\n",
    "\n",
    "* Z-Score works on distances from mean → assumes data is roughly symmetric/normal\n",
    "\n",
    "---\n",
    "\n",
    "### Rule of Thumb (Quick Decision)\n",
    "\n",
    "\n",
    "* Looks normal? → Use Z-Score\n",
    "\n",
    "* Looks skewed? → Use IQR\n",
    "\n",
    "* Not sure? → IQR is safer, since it doesn’t assume normality.\n",
    "\n",
    "\n",
    "| Situation                                | Best Choice |\n",
    "| ---------------------------------------- | ----------- |\n",
    "| Data is symmetric & bell-shaped          | **Z-score** |\n",
    "| Data is skewed or unknown distribution   | **IQR**     |\n",
    "| Small dataset (mean & std unreliable)    | **IQR**     |\n",
    "| Large dataset & want statistical meaning | **Z-score** |\n",
    "\n",
    "\n",
    "### Example\n",
    "\n",
    "Imagine this dataset:\n",
    "\n",
    "`[10, 12, 13, 15, 14, 11, 100]`\n",
    "\n",
    "* **Mean = 26.4, Std ≈ 31.3**\n",
    "\n",
    "    * Z-score for 100 = (100 - 26.4)/31.3 ≈ 2.34 → ❌ Not flagged if cutoff = 3\n",
    "\n",
    "* **IQR = Q3 - Q1 = 15 - 11.5 = 3.5**\n",
    "\n",
    "    * Upper bound = 15 + 1.5×3.5 = 20.25 → ✅ 100 is flagged as outlier\n",
    "\n",
    "So in this skewed dataset, IQR works better.\n",
    "\n",
    "So let's get started and yes again it's gonna be the same loan_df"
   ]
  },
  {
   "cell_type": "code",
   "execution_count": 1,
   "id": "04167f13-bc40-4e32-86ad-a68000828dc1",
   "metadata": {},
   "outputs": [],
   "source": [
    "import pandas as pd\n",
    "import numpy as np\n",
    "import matplotlib.pyplot as plt\n",
    "import seaborn as sns\n",
    "import warnings\n",
    "import kagglehub\n",
    "from kagglehub import KaggleDatasetAdapter\n",
    "import urllib.request\n",
    "\n",
    "# Setting the global font size for all plot elements (titles, labels, etc.)\n",
    "plt.rcParams['font.size']=13\n",
    "sns.set_style('darkgrid')\n",
    "\n",
    "\n",
    "warnings.filterwarnings('ignore')    # This can be used for removing any future warnings\n",
    "%matplotlib inline"
   ]
  },
  {
   "cell_type": "markdown",
   "id": "0cf98b84-41d0-4fed-98db-e84862300a26",
   "metadata": {},
   "source": [
    "The file`loan.csv` was taken from [here](https://www.kaggle.com/datasets/tanishaj225/loancsv)"
   ]
  },
  {
   "cell_type": "code",
   "execution_count": 2,
   "id": "b736bd9a-cc41-401b-be09-1a20dc4916ba",
   "metadata": {},
   "outputs": [],
   "source": [
    "# Set the path to the file you'd like to load\n",
    "file_path = \"loan.csv\"  # file inside tanishaj225/loancsv dataset\n",
    "\n",
    "# Load dataset into pandas DataFrame\n",
    "loan_df = kagglehub.load_dataset(\n",
    "    KaggleDatasetAdapter.PANDAS,\n",
    "    \"tanishaj225/loancsv\",   # dataset slug\n",
    "    path=file_path           # specify file to load\n",
    ")"
   ]
  },
  {
   "cell_type": "code",
   "execution_count": 3,
   "id": "3418d1cd-f1cb-44c8-a6d0-caa1ba7a1580",
   "metadata": {},
   "outputs": [
    {
     "data": {
      "text/html": [
       "<div>\n",
       "<style scoped>\n",
       "    .dataframe tbody tr th:only-of-type {\n",
       "        vertical-align: middle;\n",
       "    }\n",
       "\n",
       "    .dataframe tbody tr th {\n",
       "        vertical-align: top;\n",
       "    }\n",
       "\n",
       "    .dataframe thead th {\n",
       "        text-align: right;\n",
       "    }\n",
       "</style>\n",
       "<table border=\"1\" class=\"dataframe\">\n",
       "  <thead>\n",
       "    <tr style=\"text-align: right;\">\n",
       "      <th></th>\n",
       "      <th>Loan_ID</th>\n",
       "      <th>Gender</th>\n",
       "      <th>Married</th>\n",
       "      <th>Dependents</th>\n",
       "      <th>Education</th>\n",
       "      <th>Self_Employed</th>\n",
       "      <th>ApplicantIncome</th>\n",
       "      <th>CoapplicantIncome</th>\n",
       "      <th>LoanAmount</th>\n",
       "      <th>Loan_Amount_Term</th>\n",
       "      <th>Credit_History</th>\n",
       "      <th>Property_Area</th>\n",
       "      <th>Loan_Status</th>\n",
       "    </tr>\n",
       "  </thead>\n",
       "  <tbody>\n",
       "    <tr>\n",
       "      <th>0</th>\n",
       "      <td>LP001002</td>\n",
       "      <td>Male</td>\n",
       "      <td>No</td>\n",
       "      <td>0</td>\n",
       "      <td>Graduate</td>\n",
       "      <td>No</td>\n",
       "      <td>5849</td>\n",
       "      <td>0.0</td>\n",
       "      <td>NaN</td>\n",
       "      <td>360.0</td>\n",
       "      <td>1.0</td>\n",
       "      <td>Urban</td>\n",
       "      <td>Y</td>\n",
       "    </tr>\n",
       "    <tr>\n",
       "      <th>1</th>\n",
       "      <td>LP001003</td>\n",
       "      <td>Male</td>\n",
       "      <td>Yes</td>\n",
       "      <td>1</td>\n",
       "      <td>Graduate</td>\n",
       "      <td>No</td>\n",
       "      <td>4583</td>\n",
       "      <td>1508.0</td>\n",
       "      <td>128.0</td>\n",
       "      <td>360.0</td>\n",
       "      <td>1.0</td>\n",
       "      <td>Rural</td>\n",
       "      <td>N</td>\n",
       "    </tr>\n",
       "    <tr>\n",
       "      <th>2</th>\n",
       "      <td>LP001005</td>\n",
       "      <td>Male</td>\n",
       "      <td>Yes</td>\n",
       "      <td>0</td>\n",
       "      <td>Graduate</td>\n",
       "      <td>Yes</td>\n",
       "      <td>3000</td>\n",
       "      <td>0.0</td>\n",
       "      <td>66.0</td>\n",
       "      <td>360.0</td>\n",
       "      <td>1.0</td>\n",
       "      <td>Urban</td>\n",
       "      <td>Y</td>\n",
       "    </tr>\n",
       "    <tr>\n",
       "      <th>3</th>\n",
       "      <td>LP001006</td>\n",
       "      <td>Male</td>\n",
       "      <td>Yes</td>\n",
       "      <td>0</td>\n",
       "      <td>Not Graduate</td>\n",
       "      <td>No</td>\n",
       "      <td>2583</td>\n",
       "      <td>2358.0</td>\n",
       "      <td>120.0</td>\n",
       "      <td>360.0</td>\n",
       "      <td>1.0</td>\n",
       "      <td>Urban</td>\n",
       "      <td>Y</td>\n",
       "    </tr>\n",
       "    <tr>\n",
       "      <th>4</th>\n",
       "      <td>LP001008</td>\n",
       "      <td>Male</td>\n",
       "      <td>No</td>\n",
       "      <td>0</td>\n",
       "      <td>Graduate</td>\n",
       "      <td>No</td>\n",
       "      <td>6000</td>\n",
       "      <td>0.0</td>\n",
       "      <td>141.0</td>\n",
       "      <td>360.0</td>\n",
       "      <td>1.0</td>\n",
       "      <td>Urban</td>\n",
       "      <td>Y</td>\n",
       "    </tr>\n",
       "  </tbody>\n",
       "</table>\n",
       "</div>"
      ],
      "text/plain": [
       "    Loan_ID Gender Married Dependents     Education Self_Employed  \\\n",
       "0  LP001002   Male      No          0      Graduate            No   \n",
       "1  LP001003   Male     Yes          1      Graduate            No   \n",
       "2  LP001005   Male     Yes          0      Graduate           Yes   \n",
       "3  LP001006   Male     Yes          0  Not Graduate            No   \n",
       "4  LP001008   Male      No          0      Graduate            No   \n",
       "\n",
       "   ApplicantIncome  CoapplicantIncome  LoanAmount  Loan_Amount_Term  \\\n",
       "0             5849                0.0         NaN             360.0   \n",
       "1             4583             1508.0       128.0             360.0   \n",
       "2             3000                0.0        66.0             360.0   \n",
       "3             2583             2358.0       120.0             360.0   \n",
       "4             6000                0.0       141.0             360.0   \n",
       "\n",
       "   Credit_History Property_Area Loan_Status  \n",
       "0             1.0         Urban           Y  \n",
       "1             1.0         Rural           N  \n",
       "2             1.0         Urban           Y  \n",
       "3             1.0         Urban           Y  \n",
       "4             1.0         Urban           Y  "
      ]
     },
     "execution_count": 3,
     "metadata": {},
     "output_type": "execute_result"
    }
   ],
   "source": [
    "loan_df.head()"
   ]
  },
  {
   "cell_type": "markdown",
   "id": "3a5b1af0-b9c6-47f4-b8c4-efd31a52cc28",
   "metadata": {},
   "source": [
    "Let's start again with the removing of the outliers with the help of `IQR` and filling up any **NaN** values using the \n",
    "KNNImputer and filling up the categorical or the object type with the help of **mode** and also fill up the invalid or the zero values in the required columns"
   ]
  },
  {
   "cell_type": "code",
   "execution_count": 4,
   "id": "b2fe9ee3-5ffa-47e5-85f3-7bf1d660dbcf",
   "metadata": {},
   "outputs": [
    {
     "data": {
      "text/plain": [
       "Loan_ID               0\n",
       "Gender               13\n",
       "Married               3\n",
       "Dependents           15\n",
       "Education             0\n",
       "Self_Employed        32\n",
       "ApplicantIncome       0\n",
       "CoapplicantIncome     0\n",
       "LoanAmount           22\n",
       "Loan_Amount_Term     14\n",
       "Credit_History       50\n",
       "Property_Area         0\n",
       "Loan_Status           0\n",
       "dtype: int64"
      ]
     },
     "execution_count": 4,
     "metadata": {},
     "output_type": "execute_result"
    }
   ],
   "source": [
    "loan_df.isna().sum()"
   ]
  },
  {
   "cell_type": "code",
   "execution_count": 5,
   "id": "bbc7f3d6-20ac-4082-9abf-d9229c3eada6",
   "metadata": {},
   "outputs": [
    {
     "name": "stdout",
     "output_type": "stream",
     "text": [
      "<class 'pandas.core.frame.DataFrame'>\n",
      "RangeIndex: 614 entries, 0 to 613\n",
      "Data columns (total 13 columns):\n",
      " #   Column             Non-Null Count  Dtype  \n",
      "---  ------             --------------  -----  \n",
      " 0   Loan_ID            614 non-null    object \n",
      " 1   Gender             601 non-null    object \n",
      " 2   Married            611 non-null    object \n",
      " 3   Dependents         599 non-null    object \n",
      " 4   Education          614 non-null    object \n",
      " 5   Self_Employed      582 non-null    object \n",
      " 6   ApplicantIncome    614 non-null    int64  \n",
      " 7   CoapplicantIncome  614 non-null    float64\n",
      " 8   LoanAmount         592 non-null    float64\n",
      " 9   Loan_Amount_Term   600 non-null    float64\n",
      " 10  Credit_History     564 non-null    float64\n",
      " 11  Property_Area      614 non-null    object \n",
      " 12  Loan_Status        614 non-null    object \n",
      "dtypes: float64(4), int64(1), object(8)\n",
      "memory usage: 62.5+ KB\n"
     ]
    }
   ],
   "source": [
    "loan_df.info()"
   ]
  },
  {
   "cell_type": "code",
   "execution_count": 6,
   "id": "e0d92559-90af-4fe2-abc4-bd5300068a9a",
   "metadata": {},
   "outputs": [],
   "source": [
    "# First let's fill up the categorical once\n",
    "cat = loan_df.select_dtypes(include='object').columns"
   ]
  },
  {
   "cell_type": "code",
   "execution_count": 7,
   "id": "d163217e-d12c-49c2-acd3-bff928af9c1e",
   "metadata": {},
   "outputs": [
    {
     "data": {
      "text/plain": [
       "Index(['Loan_ID', 'Gender', 'Married', 'Dependents', 'Education',\n",
       "       'Self_Employed', 'Property_Area', 'Loan_Status'],\n",
       "      dtype='object')"
      ]
     },
     "execution_count": 7,
     "metadata": {},
     "output_type": "execute_result"
    }
   ],
   "source": [
    "cat"
   ]
  },
  {
   "cell_type": "code",
   "execution_count": 8,
   "id": "32953adb-24d7-4dfe-9b91-cf1cb81954fb",
   "metadata": {},
   "outputs": [
    {
     "data": {
      "text/plain": [
       "(614, 13)"
      ]
     },
     "execution_count": 8,
     "metadata": {},
     "output_type": "execute_result"
    }
   ],
   "source": [
    "loan_df.shape"
   ]
  },
  {
   "cell_type": "code",
   "execution_count": 9,
   "id": "f8f637ca-b6fb-4095-84d9-5bb49b342afa",
   "metadata": {},
   "outputs": [],
   "source": [
    "for col in cat:\n",
    "    loan_df[col].fillna(loan_df[col].mode()[0], inplace=True)"
   ]
  },
  {
   "cell_type": "code",
   "execution_count": 10,
   "id": "4aa7d78c-6100-4011-803f-be980931b3a9",
   "metadata": {},
   "outputs": [
    {
     "data": {
      "text/plain": [
       "Loan_ID               0\n",
       "Gender                0\n",
       "Married               0\n",
       "Dependents            0\n",
       "Education             0\n",
       "Self_Employed         0\n",
       "ApplicantIncome       0\n",
       "CoapplicantIncome     0\n",
       "LoanAmount           22\n",
       "Loan_Amount_Term     14\n",
       "Credit_History       50\n",
       "Property_Area         0\n",
       "Loan_Status           0\n",
       "dtype: int64"
      ]
     },
     "execution_count": 10,
     "metadata": {},
     "output_type": "execute_result"
    }
   ],
   "source": [
    "loan_df.isna().sum()"
   ]
  },
  {
   "cell_type": "markdown",
   "id": "cb5af15e-93fe-4537-8add-a005984578c4",
   "metadata": {},
   "source": [
    "As we can see the categorical data has been filled now it's time for the float type but if you remember correctly we should \n",
    "drop any column which has more than 50% of the data missing but if the column is important we should either look a way to fill it up or find another dataset"
   ]
  },
  {
   "cell_type": "code",
   "execution_count": 11,
   "id": "b570406d-a2b5-429f-be08-7a2c1a64e95a",
   "metadata": {},
   "outputs": [
    {
     "data": {
      "text/plain": [
       "np.float64(8.143322475570033)"
      ]
     },
     "execution_count": 11,
     "metadata": {},
     "output_type": "execute_result"
    }
   ],
   "source": [
    "# Let's find the percentage of missing values in column Credit_History\n",
    "missing_percentage = loan_df['Credit_History'].isna().mean() * 100\n",
    "missing_percentage"
   ]
  },
  {
   "cell_type": "markdown",
   "id": "7752fd3e-6f20-4d3f-a967-586e545d7bdb",
   "metadata": {},
   "source": [
    "Since the missing value in `Credit_History` is about 8.14% so we can either go with it or just drop it depending whether this feature is important on your model like:\n",
    "\n",
    "* **Target variable** – What we are predicting (e.g., loan approval, default risk, interest rate).\n",
    "\n",
    "* **Other features** – Whether we already have features like `PaymentHistory`, `Income`, or `DebtToIncomeRatio` that capture similar information about creditworthiness."
   ]
  },
  {
   "cell_type": "code",
   "execution_count": 12,
   "id": "22a7ee1d-b617-4c51-b177-5b729d914375",
   "metadata": {},
   "outputs": [],
   "source": [
    "# Let's use KNNImputer to fill up the float64 dtype\n",
    "from sklearn.impute import KNNImputer"
   ]
  },
  {
   "cell_type": "code",
   "execution_count": 13,
   "id": "037fb2c7-62e7-456c-8b61-b7cf2129ae09",
   "metadata": {},
   "outputs": [],
   "source": [
    "flo = loan_df.select_dtypes(include='float64').columns"
   ]
  },
  {
   "cell_type": "code",
   "execution_count": 14,
   "id": "4f8d589d-7696-4d07-aac8-3a6b424524db",
   "metadata": {},
   "outputs": [],
   "source": [
    "knn = KNNImputer(n_neighbors=5)\n",
    "# Fit-transform and keep column names + index\n",
    "loan_df[flo] = pd.DataFrame(knn.fit_transform(loan_df[flo]), columns=flo, index=loan_df.index)"
   ]
  },
  {
   "cell_type": "code",
   "execution_count": 15,
   "id": "0841aff2-0328-49e3-8260-45ec84ce2512",
   "metadata": {},
   "outputs": [
    {
     "data": {
      "text/plain": [
       "Loan_ID              0\n",
       "Gender               0\n",
       "Married              0\n",
       "Dependents           0\n",
       "Education            0\n",
       "Self_Employed        0\n",
       "ApplicantIncome      0\n",
       "CoapplicantIncome    0\n",
       "LoanAmount           0\n",
       "Loan_Amount_Term     0\n",
       "Credit_History       0\n",
       "Property_Area        0\n",
       "Loan_Status          0\n",
       "dtype: int64"
      ]
     },
     "execution_count": 15,
     "metadata": {},
     "output_type": "execute_result"
    }
   ],
   "source": [
    "loan_df.isna().sum()"
   ]
  },
  {
   "cell_type": "markdown",
   "id": "5084e5da-26b0-4127-a2bb-5bf797c1cad0",
   "metadata": {},
   "source": [
    "After filling missing values with KNN imputation, we still have `0` values in columns like `ApplicantIncome` and `CoapplicantIncome`.\n",
    "\n",
    "Since a true income of `0` is unlikely and often represents missing data, we will replace these `0`s with `NaN` and re-impute them to maintain data consistency."
   ]
  },
  {
   "cell_type": "code",
   "execution_count": 16,
   "id": "6253dd5c-52e6-4e69-89b7-94e506f7b56b",
   "metadata": {},
   "outputs": [],
   "source": [
    "loan_df.ApplicantIncome.replace(0, np.nan, inplace=True)\n",
    "loan_df.CoapplicantIncome.replace(0, np.nan, inplace=True)"
   ]
  },
  {
   "cell_type": "code",
   "execution_count": 17,
   "id": "458efc8d-bde3-4feb-9322-24749db65dfc",
   "metadata": {},
   "outputs": [
    {
     "data": {
      "text/plain": [
       "Loan_ID                0\n",
       "Gender                 0\n",
       "Married                0\n",
       "Dependents             0\n",
       "Education              0\n",
       "Self_Employed          0\n",
       "ApplicantIncome        0\n",
       "CoapplicantIncome    273\n",
       "LoanAmount             0\n",
       "Loan_Amount_Term       0\n",
       "Credit_History         0\n",
       "Property_Area          0\n",
       "Loan_Status            0\n",
       "dtype: int64"
      ]
     },
     "execution_count": 17,
     "metadata": {},
     "output_type": "execute_result"
    }
   ],
   "source": [
    "loan_df.isna().sum()"
   ]
  },
  {
   "cell_type": "markdown",
   "id": "25d71441-1add-4cbb-8a09-efcd45548c72",
   "metadata": {},
   "source": [
    "After Analyzing CoapplicantIncome\n",
    "\n",
    "We identified about 273 invalid values in the `CoapplicantIncome` column.\n",
    "\n",
    "Next, let's calculate the percentage of missing values in this column to understand the extent of the issue."
   ]
  },
  {
   "cell_type": "code",
   "execution_count": 18,
   "id": "74f0f819-02c2-4b70-91c7-beaf321d956d",
   "metadata": {},
   "outputs": [
    {
     "data": {
      "text/plain": [
       "np.float64(44.462540716612374)"
      ]
     },
     "execution_count": 18,
     "metadata": {},
     "output_type": "execute_result"
    }
   ],
   "source": [
    "missing_perc = loan_df.CoapplicantIncome.isna().mean() * 100\n",
    "missing_perc"
   ]
  },
  {
   "cell_type": "markdown",
   "id": "4c794e70-7cd2-4ba3-b4c9-f7d58defc9cc",
   "metadata": {},
   "source": [
    "The missing values in `CoapplicantIncome` are just under 50%, which is still acceptable to work with.\n",
    "Instead of dropping this column and losing valuable information, we will use **KNNImputer** to fill in the missing values based on the patterns in other features."
   ]
  },
  {
   "cell_type": "code",
   "execution_count": 19,
   "id": "51fd44d7-70a3-4c70-ac9b-838fe7a695f2",
   "metadata": {},
   "outputs": [],
   "source": [
    "knn = KNNImputer(n_neighbors=5)\n",
    "coapp_df = loan_df[['CoapplicantIncome']]\n",
    "\n",
    "imputed = pd.DataFrame(knn.fit_transform(coapp_df), columns=['CoapplicantIncome'], index=loan_df.index)"
   ]
  },
  {
   "cell_type": "code",
   "execution_count": 20,
   "id": "afab0eb0-6a32-41c6-931b-5bc031b7a05b",
   "metadata": {},
   "outputs": [],
   "source": [
    "# Assign back to original DataFrame\n",
    "loan_df['CoapplicantIncome'] = imputed['CoapplicantIncome']"
   ]
  },
  {
   "cell_type": "code",
   "execution_count": 21,
   "id": "8d761120-aa3d-4b3f-8cef-4c1db8623648",
   "metadata": {},
   "outputs": [
    {
     "data": {
      "text/plain": [
       "Loan_ID              0\n",
       "Gender               0\n",
       "Married              0\n",
       "Dependents           0\n",
       "Education            0\n",
       "Self_Employed        0\n",
       "ApplicantIncome      0\n",
       "CoapplicantIncome    0\n",
       "LoanAmount           0\n",
       "Loan_Amount_Term     0\n",
       "Credit_History       0\n",
       "Property_Area        0\n",
       "Loan_Status          0\n",
       "dtype: int64"
      ]
     },
     "execution_count": 21,
     "metadata": {},
     "output_type": "execute_result"
    }
   ],
   "source": [
    "loan_df.isna().sum()"
   ]
  },
  {
   "cell_type": "code",
   "execution_count": 22,
   "id": "22c1049d-aed0-4971-8c55-7fe14b078354",
   "metadata": {},
   "outputs": [
    {
     "data": {
      "text/html": [
       "<div>\n",
       "<style scoped>\n",
       "    .dataframe tbody tr th:only-of-type {\n",
       "        vertical-align: middle;\n",
       "    }\n",
       "\n",
       "    .dataframe tbody tr th {\n",
       "        vertical-align: top;\n",
       "    }\n",
       "\n",
       "    .dataframe thead th {\n",
       "        text-align: right;\n",
       "    }\n",
       "</style>\n",
       "<table border=\"1\" class=\"dataframe\">\n",
       "  <thead>\n",
       "    <tr style=\"text-align: right;\">\n",
       "      <th></th>\n",
       "      <th>Loan_ID</th>\n",
       "      <th>Gender</th>\n",
       "      <th>Married</th>\n",
       "      <th>Dependents</th>\n",
       "      <th>Education</th>\n",
       "      <th>Self_Employed</th>\n",
       "      <th>ApplicantIncome</th>\n",
       "      <th>CoapplicantIncome</th>\n",
       "      <th>LoanAmount</th>\n",
       "      <th>Loan_Amount_Term</th>\n",
       "      <th>Credit_History</th>\n",
       "      <th>Property_Area</th>\n",
       "      <th>Loan_Status</th>\n",
       "    </tr>\n",
       "  </thead>\n",
       "  <tbody>\n",
       "    <tr>\n",
       "      <th>0</th>\n",
       "      <td>LP001002</td>\n",
       "      <td>Male</td>\n",
       "      <td>No</td>\n",
       "      <td>0</td>\n",
       "      <td>Graduate</td>\n",
       "      <td>No</td>\n",
       "      <td>5849</td>\n",
       "      <td>2919.193314</td>\n",
       "      <td>216.4</td>\n",
       "      <td>360.0</td>\n",
       "      <td>1.0</td>\n",
       "      <td>Urban</td>\n",
       "      <td>Y</td>\n",
       "    </tr>\n",
       "    <tr>\n",
       "      <th>1</th>\n",
       "      <td>LP001003</td>\n",
       "      <td>Male</td>\n",
       "      <td>Yes</td>\n",
       "      <td>1</td>\n",
       "      <td>Graduate</td>\n",
       "      <td>No</td>\n",
       "      <td>4583</td>\n",
       "      <td>1508.000000</td>\n",
       "      <td>128.0</td>\n",
       "      <td>360.0</td>\n",
       "      <td>1.0</td>\n",
       "      <td>Rural</td>\n",
       "      <td>N</td>\n",
       "    </tr>\n",
       "    <tr>\n",
       "      <th>2</th>\n",
       "      <td>LP001005</td>\n",
       "      <td>Male</td>\n",
       "      <td>Yes</td>\n",
       "      <td>0</td>\n",
       "      <td>Graduate</td>\n",
       "      <td>Yes</td>\n",
       "      <td>3000</td>\n",
       "      <td>2919.193314</td>\n",
       "      <td>66.0</td>\n",
       "      <td>360.0</td>\n",
       "      <td>1.0</td>\n",
       "      <td>Urban</td>\n",
       "      <td>Y</td>\n",
       "    </tr>\n",
       "    <tr>\n",
       "      <th>3</th>\n",
       "      <td>LP001006</td>\n",
       "      <td>Male</td>\n",
       "      <td>Yes</td>\n",
       "      <td>0</td>\n",
       "      <td>Not Graduate</td>\n",
       "      <td>No</td>\n",
       "      <td>2583</td>\n",
       "      <td>2358.000000</td>\n",
       "      <td>120.0</td>\n",
       "      <td>360.0</td>\n",
       "      <td>1.0</td>\n",
       "      <td>Urban</td>\n",
       "      <td>Y</td>\n",
       "    </tr>\n",
       "    <tr>\n",
       "      <th>4</th>\n",
       "      <td>LP001008</td>\n",
       "      <td>Male</td>\n",
       "      <td>No</td>\n",
       "      <td>0</td>\n",
       "      <td>Graduate</td>\n",
       "      <td>No</td>\n",
       "      <td>6000</td>\n",
       "      <td>2919.193314</td>\n",
       "      <td>141.0</td>\n",
       "      <td>360.0</td>\n",
       "      <td>1.0</td>\n",
       "      <td>Urban</td>\n",
       "      <td>Y</td>\n",
       "    </tr>\n",
       "  </tbody>\n",
       "</table>\n",
       "</div>"
      ],
      "text/plain": [
       "    Loan_ID Gender Married Dependents     Education Self_Employed  \\\n",
       "0  LP001002   Male      No          0      Graduate            No   \n",
       "1  LP001003   Male     Yes          1      Graduate            No   \n",
       "2  LP001005   Male     Yes          0      Graduate           Yes   \n",
       "3  LP001006   Male     Yes          0  Not Graduate            No   \n",
       "4  LP001008   Male      No          0      Graduate            No   \n",
       "\n",
       "   ApplicantIncome  CoapplicantIncome  LoanAmount  Loan_Amount_Term  \\\n",
       "0             5849        2919.193314       216.4             360.0   \n",
       "1             4583        1508.000000       128.0             360.0   \n",
       "2             3000        2919.193314        66.0             360.0   \n",
       "3             2583        2358.000000       120.0             360.0   \n",
       "4             6000        2919.193314       141.0             360.0   \n",
       "\n",
       "   Credit_History Property_Area Loan_Status  \n",
       "0             1.0         Urban           Y  \n",
       "1             1.0         Rural           N  \n",
       "2             1.0         Urban           Y  \n",
       "3             1.0         Urban           Y  \n",
       "4             1.0         Urban           Y  "
      ]
     },
     "execution_count": 22,
     "metadata": {},
     "output_type": "execute_result"
    }
   ],
   "source": [
    "loan_df.head()"
   ]
  },
  {
   "cell_type": "code",
   "execution_count": 23,
   "id": "fac7ce86-eac0-4e69-92aa-47d46644e570",
   "metadata": {},
   "outputs": [
    {
     "data": {
      "text/html": [
       "<div>\n",
       "<style scoped>\n",
       "    .dataframe tbody tr th:only-of-type {\n",
       "        vertical-align: middle;\n",
       "    }\n",
       "\n",
       "    .dataframe tbody tr th {\n",
       "        vertical-align: top;\n",
       "    }\n",
       "\n",
       "    .dataframe thead th {\n",
       "        text-align: right;\n",
       "    }\n",
       "</style>\n",
       "<table border=\"1\" class=\"dataframe\">\n",
       "  <thead>\n",
       "    <tr style=\"text-align: right;\">\n",
       "      <th></th>\n",
       "      <th>ApplicantIncome</th>\n",
       "      <th>CoapplicantIncome</th>\n",
       "      <th>LoanAmount</th>\n",
       "      <th>Loan_Amount_Term</th>\n",
       "      <th>Credit_History</th>\n",
       "    </tr>\n",
       "  </thead>\n",
       "  <tbody>\n",
       "    <tr>\n",
       "      <th>count</th>\n",
       "      <td>614.000000</td>\n",
       "      <td>614.000000</td>\n",
       "      <td>614.000000</td>\n",
       "      <td>614.000000</td>\n",
       "      <td>614.000000</td>\n",
       "    </tr>\n",
       "    <tr>\n",
       "      <th>mean</th>\n",
       "      <td>5403.459283</td>\n",
       "      <td>2919.193314</td>\n",
       "      <td>146.820521</td>\n",
       "      <td>342.254072</td>\n",
       "      <td>0.844300</td>\n",
       "    </tr>\n",
       "    <tr>\n",
       "      <th>std</th>\n",
       "      <td>6109.041673</td>\n",
       "      <td>2540.709504</td>\n",
       "      <td>84.423462</td>\n",
       "      <td>64.469530</td>\n",
       "      <td>0.351726</td>\n",
       "    </tr>\n",
       "    <tr>\n",
       "      <th>min</th>\n",
       "      <td>150.000000</td>\n",
       "      <td>16.120001</td>\n",
       "      <td>9.000000</td>\n",
       "      <td>12.000000</td>\n",
       "      <td>0.000000</td>\n",
       "    </tr>\n",
       "    <tr>\n",
       "      <th>25%</th>\n",
       "      <td>2877.500000</td>\n",
       "      <td>2064.750000</td>\n",
       "      <td>100.250000</td>\n",
       "      <td>360.000000</td>\n",
       "      <td>1.000000</td>\n",
       "    </tr>\n",
       "    <tr>\n",
       "      <th>50%</th>\n",
       "      <td>3812.500000</td>\n",
       "      <td>2919.193314</td>\n",
       "      <td>128.000000</td>\n",
       "      <td>360.000000</td>\n",
       "      <td>1.000000</td>\n",
       "    </tr>\n",
       "    <tr>\n",
       "      <th>75%</th>\n",
       "      <td>5795.000000</td>\n",
       "      <td>2919.193314</td>\n",
       "      <td>169.050000</td>\n",
       "      <td>360.000000</td>\n",
       "      <td>1.000000</td>\n",
       "    </tr>\n",
       "    <tr>\n",
       "      <th>max</th>\n",
       "      <td>81000.000000</td>\n",
       "      <td>41667.000000</td>\n",
       "      <td>700.000000</td>\n",
       "      <td>480.000000</td>\n",
       "      <td>1.000000</td>\n",
       "    </tr>\n",
       "  </tbody>\n",
       "</table>\n",
       "</div>"
      ],
      "text/plain": [
       "       ApplicantIncome  CoapplicantIncome  LoanAmount  Loan_Amount_Term  \\\n",
       "count       614.000000         614.000000  614.000000        614.000000   \n",
       "mean       5403.459283        2919.193314  146.820521        342.254072   \n",
       "std        6109.041673        2540.709504   84.423462         64.469530   \n",
       "min         150.000000          16.120001    9.000000         12.000000   \n",
       "25%        2877.500000        2064.750000  100.250000        360.000000   \n",
       "50%        3812.500000        2919.193314  128.000000        360.000000   \n",
       "75%        5795.000000        2919.193314  169.050000        360.000000   \n",
       "max       81000.000000       41667.000000  700.000000        480.000000   \n",
       "\n",
       "       Credit_History  \n",
       "count      614.000000  \n",
       "mean         0.844300  \n",
       "std          0.351726  \n",
       "min          0.000000  \n",
       "25%          1.000000  \n",
       "50%          1.000000  \n",
       "75%          1.000000  \n",
       "max          1.000000  "
      ]
     },
     "execution_count": 23,
     "metadata": {},
     "output_type": "execute_result"
    }
   ],
   "source": [
    "loan_df.describe()"
   ]
  },
  {
   "cell_type": "code",
   "execution_count": 24,
   "id": "58b9a3a8-d6e7-4bf0-8433-6380085d9414",
   "metadata": {},
   "outputs": [
    {
     "data": {
      "image/png": "[encoded data removed]",
      "text/plain": [
       "<Figure size 640x480 with 1 Axes>"
      ]
     },
     "metadata": {},
     "output_type": "display_data"
    }
   ],
   "source": [
    "# Now let's look at the Outliers using the boxplot\n",
    "sns.boxplot(data=loan_df,x='CoapplicantIncome')\n",
    "plt.show()"
   ]
  },
  {
   "cell_type": "code",
   "execution_count": 25,
   "id": "2bd1c949-a3fe-4628-a296-01fade9955d2",
   "metadata": {},
   "outputs": [
    {
     "data": {
      "image/png": "[encoded data removed]",
      "text/plain": [
       "<Figure size 640x480 with 1 Axes>"
      ]
     },
     "metadata": {},
     "output_type": "display_data"
    }
   ],
   "source": [
    "sns.distplot(loan_df.CoapplicantIncome)\n",
    "plt.show()"
   ]
  },
  {
   "cell_type": "code",
   "execution_count": 26,
   "id": "1713521b-4dba-4a1c-86eb-4ae8450aa8d2",
   "metadata": {},
   "outputs": [],
   "source": [
    "# Let's remove the outliers using the IQR method\n",
    "q1 = loan_df.CoapplicantIncome.quantile(0.25)\n",
    "q3 = loan_df.CoapplicantIncome.quantile(0.75)"
   ]
  },
  {
   "cell_type": "code",
   "execution_count": 27,
   "id": "e29108dc-1891-4548-9e88-7f5fc44378e2",
   "metadata": {},
   "outputs": [],
   "source": [
    "IQR = q3 - q1"
   ]
  },
  {
   "cell_type": "code",
   "execution_count": 28,
   "id": "8ba3c442-279b-4ecf-9866-44c3901613ca",
   "metadata": {},
   "outputs": [],
   "source": [
    "lower_limit = q1 - 1.5 * IQR\n",
    "upper_limit = q3 + 1.5 * IQR"
   ]
  },
  {
   "cell_type": "code",
   "execution_count": 29,
   "id": "de5b6c68-b097-4a3f-9cf7-7f8eb20cd9ac",
   "metadata": {},
   "outputs": [
    {
     "data": {
      "text/plain": [
       "(np.float64(783.0850293754843), np.float64(4200.858284374193))"
      ]
     },
     "execution_count": 29,
     "metadata": {},
     "output_type": "execute_result"
    }
   ],
   "source": [
    "lower_limit, upper_limit"
   ]
  },
  {
   "cell_type": "markdown",
   "id": "43bc1f33-7596-4e86-beef-01717321cbb6",
   "metadata": {},
   "source": [
    "Handling Outliers in `CoapplicantIncome`\n",
    "\n",
    "The `CoapplicantIncome` column is **highly right-skewed**, with most values in the lower range but a few extreme high-income values.\n",
    "\n",
    "Using the IQR method, these high values are flagged as potential outliers.\n",
    "\n",
    "However, in real-world data, such high incomes are plausible, so we will retain them.\n",
    "\n",
    "Any necessary transformations or scaling will be handled later during preprocessing.\n",
    "\n",
    "Any necessary transformations or scaling to handle skewness can be applied later. For now, we will retain these extreme values. Once we learn about Robust Scaling and other preprocessing techniques, we can revisit this step if needed."
   ]
  },
  {
   "cell_type": "code",
   "execution_count": null,
   "id": "38f7de2b-ba15-4a60-a077-1aa35b8623c4",
   "metadata": {},
   "outputs": [],
   "source": []
  },
  {
   "cell_type": "code",
   "execution_count": null,
   "id": "6cbd91f7-d1d9-49c8-a02e-434e9bf030dd",
   "metadata": {},
   "outputs": [],
   "source": []
  },
  {
   "cell_type": "code",
   "execution_count": 30,
   "id": "786192bd-da73-4a8a-9fa1-83afd0ef4584",
   "metadata": {},
   "outputs": [
    {
     "data": {
      "text/html": [
       "<div>\n",
       "<style scoped>\n",
       "    .dataframe tbody tr th:only-of-type {\n",
       "        vertical-align: middle;\n",
       "    }\n",
       "\n",
       "    .dataframe tbody tr th {\n",
       "        vertical-align: top;\n",
       "    }\n",
       "\n",
       "    .dataframe thead th {\n",
       "        text-align: right;\n",
       "    }\n",
       "</style>\n",
       "<table border=\"1\" class=\"dataframe\">\n",
       "  <thead>\n",
       "    <tr style=\"text-align: right;\">\n",
       "      <th></th>\n",
       "      <th>Loan_ID</th>\n",
       "      <th>Gender</th>\n",
       "      <th>Married</th>\n",
       "      <th>Dependents</th>\n",
       "      <th>Education</th>\n",
       "      <th>Self_Employed</th>\n",
       "      <th>ApplicantIncome</th>\n",
       "      <th>CoapplicantIncome</th>\n",
       "      <th>LoanAmount</th>\n",
       "      <th>Loan_Amount_Term</th>\n",
       "      <th>Credit_History</th>\n",
       "      <th>Property_Area</th>\n",
       "      <th>Loan_Status</th>\n",
       "    </tr>\n",
       "  </thead>\n",
       "  <tbody>\n",
       "    <tr>\n",
       "      <th>0</th>\n",
       "      <td>LP001002</td>\n",
       "      <td>Male</td>\n",
       "      <td>No</td>\n",
       "      <td>0</td>\n",
       "      <td>Graduate</td>\n",
       "      <td>No</td>\n",
       "      <td>5849</td>\n",
       "      <td>2919.193314</td>\n",
       "      <td>216.4</td>\n",
       "      <td>360.0</td>\n",
       "      <td>1.0</td>\n",
       "      <td>Urban</td>\n",
       "      <td>Y</td>\n",
       "    </tr>\n",
       "    <tr>\n",
       "      <th>1</th>\n",
       "      <td>LP001003</td>\n",
       "      <td>Male</td>\n",
       "      <td>Yes</td>\n",
       "      <td>1</td>\n",
       "      <td>Graduate</td>\n",
       "      <td>No</td>\n",
       "      <td>4583</td>\n",
       "      <td>1508.000000</td>\n",
       "      <td>128.0</td>\n",
       "      <td>360.0</td>\n",
       "      <td>1.0</td>\n",
       "      <td>Rural</td>\n",
       "      <td>N</td>\n",
       "    </tr>\n",
       "    <tr>\n",
       "      <th>2</th>\n",
       "      <td>LP001005</td>\n",
       "      <td>Male</td>\n",
       "      <td>Yes</td>\n",
       "      <td>0</td>\n",
       "      <td>Graduate</td>\n",
       "      <td>Yes</td>\n",
       "      <td>3000</td>\n",
       "      <td>2919.193314</td>\n",
       "      <td>66.0</td>\n",
       "      <td>360.0</td>\n",
       "      <td>1.0</td>\n",
       "      <td>Urban</td>\n",
       "      <td>Y</td>\n",
       "    </tr>\n",
       "    <tr>\n",
       "      <th>3</th>\n",
       "      <td>LP001006</td>\n",
       "      <td>Male</td>\n",
       "      <td>Yes</td>\n",
       "      <td>0</td>\n",
       "      <td>Not Graduate</td>\n",
       "      <td>No</td>\n",
       "      <td>2583</td>\n",
       "      <td>2358.000000</td>\n",
       "      <td>120.0</td>\n",
       "      <td>360.0</td>\n",
       "      <td>1.0</td>\n",
       "      <td>Urban</td>\n",
       "      <td>Y</td>\n",
       "    </tr>\n",
       "    <tr>\n",
       "      <th>4</th>\n",
       "      <td>LP001008</td>\n",
       "      <td>Male</td>\n",
       "      <td>No</td>\n",
       "      <td>0</td>\n",
       "      <td>Graduate</td>\n",
       "      <td>No</td>\n",
       "      <td>6000</td>\n",
       "      <td>2919.193314</td>\n",
       "      <td>141.0</td>\n",
       "      <td>360.0</td>\n",
       "      <td>1.0</td>\n",
       "      <td>Urban</td>\n",
       "      <td>Y</td>\n",
       "    </tr>\n",
       "  </tbody>\n",
       "</table>\n",
       "</div>"
      ],
      "text/plain": [
       "    Loan_ID Gender Married Dependents     Education Self_Employed  \\\n",
       "0  LP001002   Male      No          0      Graduate            No   \n",
       "1  LP001003   Male     Yes          1      Graduate            No   \n",
       "2  LP001005   Male     Yes          0      Graduate           Yes   \n",
       "3  LP001006   Male     Yes          0  Not Graduate            No   \n",
       "4  LP001008   Male      No          0      Graduate            No   \n",
       "\n",
       "   ApplicantIncome  CoapplicantIncome  LoanAmount  Loan_Amount_Term  \\\n",
       "0             5849        2919.193314       216.4             360.0   \n",
       "1             4583        1508.000000       128.0             360.0   \n",
       "2             3000        2919.193314        66.0             360.0   \n",
       "3             2583        2358.000000       120.0             360.0   \n",
       "4             6000        2919.193314       141.0             360.0   \n",
       "\n",
       "   Credit_History Property_Area Loan_Status  \n",
       "0             1.0         Urban           Y  \n",
       "1             1.0         Rural           N  \n",
       "2             1.0         Urban           Y  \n",
       "3             1.0         Urban           Y  \n",
       "4             1.0         Urban           Y  "
      ]
     },
     "execution_count": 30,
     "metadata": {},
     "output_type": "execute_result"
    }
   ],
   "source": [
    "loan_df.head()"
   ]
  },
  {
   "cell_type": "markdown",
   "id": "8a4d0f0d-8c66-4104-a8cd-273679cab295",
   "metadata": {},
   "source": [
    "Well, since we have already handled the missing values and cleaned the dataset, \n",
    "we can now move on to **encoding categorical variables** and preparing the data for modeling.\n",
    "\n",
    "`TL;DR`: Clean missing values → Encode categorical features → Scale numeric features → Ready for modeling.\n",
    "\n",
    "1. **Handle missing and invalid values**\n",
    "\n",
    "    * Filled NaNs using KNNImputer\n",
    "\n",
    "    * Replaced invalid zeros in `CoapplicantIncome` with **NaN** and imputed\n",
    "\n",
    "2. **Encode categorical variables**\n",
    "\n",
    "    * Columns like `Gender`, `Married`, `Education`, `Self_Employed`, `Property_Area`, `Loan_Status` were OneHotEncoded\n",
    "\n",
    "3. **Scale numeric features**\n",
    "\n",
    "    * Applied StandardScaler to numeric columns (`ApplicantIncome`, `CoapplicantIncome`, `LoanAmount`, `Loan_Amount_Term`)\n",
    "\n",
    "    * Did not scale the OneHotEncoded columns\n",
    "\n",
    "4. **Ready for modeling**\n",
    "\n",
    "    * Dataset now has clean, scaled numeric features and properly encoded categorical features"
   ]
  },
  {
   "cell_type": "code",
   "execution_count": null,
   "id": "973e0a95-57e1-414d-b4ab-f437a9bcb674",
   "metadata": {},
   "outputs": [],
   "source": []
  }
 ],
 "metadata": {
  "kernelspec": {
   "display_name": "Python 3 (ipykernel)",
   "language": "python",
   "name": "python3"
  },
  "language_info": {
   "codemirror_mode": {
    "name": "ipython",
    "version": 3
   },
   "file_extension": ".py",
   "mimetype": "text/x-python",
   "name": "python",
   "nbconvert_exporter": "python",
   "pygments_lexer": "ipython3",
   "version": "3.13.2"
  }
 },
 "nbformat": 4,
 "nbformat_minor": 5
}
